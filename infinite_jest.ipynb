{
 "cells": [
  {
   "cell_type": "markdown",
   "metadata": {},
   "source": [
    "## Infinite Jest text generation\n",
    "---\n",
    "\n",
    "I want to train a sequence model on a dataset for Infinite Jest. Then, I want to have it generate text."
   ]
  },
  {
   "cell_type": "markdown",
   "metadata": {},
   "source": [
    "### 1. Package imports"
   ]
  },
  {
   "cell_type": "code",
   "execution_count": 7,
   "metadata": {},
   "outputs": [],
   "source": [
    "import numpy as np\n",
    "import tensorflow as tf\n",
    "import tensorflow.keras as keras\n",
    "from tensorflow.keras.preprocessing.text import Tokenizer\n",
    "from tensorflow.keras.preprocessing.sequence import pad_sequences"
   ]
  },
  {
   "cell_type": "markdown",
   "metadata": {},
   "source": [
    "### 2. Loading and preprocessing the data"
   ]
  },
  {
   "cell_type": "code",
   "execution_count": 6,
   "metadata": {},
   "outputs": [
    {
     "name": "stdout",
     "output_type": "stream",
     "text": [
      "28826\n",
      "['could be what you hear.\\n', \"Athletics with his head out from under his wing: '— to avoid admission procedures that could be seen as primarily athleticsoriented. It could be a mess, son.’\\n\", \"'Bill means the appearance, not necessarily the real true facts of the matter, which you alone can fill in,' says the Director of\\n\", 'Composition.\\n', \"'— the appearance of the high athletic ranking, the subnormal scores, the over-academic essays, the incredible grades\\n\", 'vortexing out of what could be seen as a nepotistic situation.’\\n', 'The yellow Dean has leaned so far forward that his tie is going to have a horizontal dent from the table-edge, his face sallow\\n', 'and kindly and no-shit-whatever:\\n', \"'Look here, Mr. Incandenza, Hal, please just explain to me why we couldn't be accused of using you, son. Why nobody could\\n\", '\\n']\n"
     ]
    }
   ],
   "source": [
    "with open(\"infinite_jest_text.txt\", 'r') as file_in:\n",
    "    ij_text = file_in.readlines()\n",
    "    \n",
    "print(len(ij_text))\n",
    "print(ij_text[250:260])"
   ]
  },
  {
   "cell_type": "code",
   "execution_count": 8,
   "metadata": {},
   "outputs": [],
   "source": [
    "# parameters for the tokeniser and embedding\n",
    "vocab_size = 10000\n",
    "embedding_dimensions = 64\n",
    "max_length = 128\n",
    "trunc_type = \"post\"\n",
    "oov_token = \"<OOV>\""
   ]
  },
  {
   "cell_type": "code",
   "execution_count": 10,
   "metadata": {},
   "outputs": [],
   "source": [
    "tokeniser = Tokenizer(num_words=vocab_size, oov_token=oov_token)\n",
    "tokeniser.fit_on_texts(ij_text)\n",
    "\n",
    "word_index = tokeniser.word_index\n",
    "\n",
    "sequences = tokeniser.texts_to_sequences(ij_text)\n",
    "padded_sequences = pad_sequences(sequences, maxlen=max_length, truncating=trunc_type)"
   ]
  },
  {
   "cell_type": "code",
   "execution_count": 15,
   "metadata": {},
   "outputs": [
    {
     "name": "stdout",
     "output_type": "stream",
     "text": [
      "37312\n",
      "[2318, 3364, 36, 9747, 2883, 1]\n"
     ]
    }
   ],
   "source": [
    "print(len(word_index))\n",
    "print(sequences[0])"
   ]
  },
  {
   "cell_type": "markdown",
   "metadata": {},
   "source": [
    "### 3. Creating a model\n",
    "- structure\n",
    "- compilation\n"
   ]
  },
  {
   "cell_type": "markdown",
   "metadata": {},
   "source": [
    "### 4. Fitting the model to the data"
   ]
  },
  {
   "cell_type": "markdown",
   "metadata": {},
   "source": [
    "### 5. Evaluating the model and visualising results"
   ]
  },
  {
   "cell_type": "markdown",
   "metadata": {},
   "source": [
    "### 6. Hyperparameter optimisation"
   ]
  },
  {
   "cell_type": "markdown",
   "metadata": {},
   "source": [
    "### 7. Sequence generation"
   ]
  },
  {
   "cell_type": "code",
   "execution_count": null,
   "metadata": {},
   "outputs": [],
   "source": []
  }
 ],
 "metadata": {
  "kernelspec": {
   "display_name": "Python 3",
   "language": "python",
   "name": "python3"
  },
  "language_info": {
   "codemirror_mode": {
    "name": "ipython",
    "version": 3
   },
   "file_extension": ".py",
   "mimetype": "text/x-python",
   "name": "python",
   "nbconvert_exporter": "python",
   "pygments_lexer": "ipython3",
   "version": "3.8.5"
  }
 },
 "nbformat": 4,
 "nbformat_minor": 4
}
