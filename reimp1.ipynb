{
 "cells": [
  {
   "cell_type": "markdown",
   "metadata": {},
   "source": [
    "### Imports and version checks"
   ]
  },
  {
   "cell_type": "code",
   "execution_count": 1,
   "metadata": {},
   "outputs": [],
   "source": [
    "import tensorflow as tf\n",
    "import tensorflow.keras as keras"
   ]
  },
  {
   "cell_type": "code",
   "execution_count": 2,
   "metadata": {},
   "outputs": [
    {
     "name": "stdout",
     "output_type": "stream",
     "text": [
      "2.3.1\n"
     ]
    }
   ],
   "source": [
    "print(tf.__version__)\n",
    "\n",
    "gpus = tf.config.experimental.list_physical_devices('GPU')\n",
    "for gpu in gpus:\n",
    "    print(\"Name:\", gpu.name, \"  Type:\", gpu.device_type)"
   ]
  },
  {
   "cell_type": "markdown",
   "metadata": {},
   "source": [
    "### Load and preprocess data, create examples"
   ]
  },
  {
   "cell_type": "code",
   "execution_count": 12,
   "metadata": {},
   "outputs": [],
   "source": [
    "path = \"infinite_jest_text.txt\"\n",
    "\n",
    "with open(path, \"r\") as f:\n",
    "    data = f.read()\n",
    "    \n",
    "data = data.lower().replace(\"\\n\", \" \")\n",
    "\n",
    "unique_chars = sorted(list(set(data)))\n",
    "\n",
    "idx_to_char = dict((i,c) for (i,c) in enumerate(unique_chars))\n",
    "char_to_idx = dict((c, i) for (i, c) in enumerate(unique_chars))"
   ]
  },
  {
   "cell_type": "code",
   "execution_count": 1,
   "metadata": {},
   "outputs": [],
   "source": [
    "# TODO: Create training examples out of my input data.\n",
    "\n",
    "# For this particular task we don't need to worry about\n",
    "# validation and test sets. We always predict the next character\n",
    "# for a given sentence.\n",
    "sentence = \"This is an example sen\"\n",
    "next_char = \"t\" # \"[...]ence.\"\n",
    "\n",
    "shape_of_examples = None # placeholder—I need to find out what my inputs look like"
   ]
  },
  {
   "cell_type": "markdown",
   "metadata": {},
   "source": [
    "### Create a model, compile it"
   ]
  },
  {
   "cell_type": "code",
   "execution_count": null,
   "metadata": {},
   "outputs": [],
   "source": [
    "batch_size = 128\n",
    "\n",
    "# Creating the model is the simplest part of this notebook.\n",
    "model = keras.Sequential(\n",
    "[\n",
    "    # FIXME: what's the dimension of this input supposed to be?\n",
    "    keras.layers.Input(shape_of_examples, batch_size), \n",
    "    keras.layers.LSTM(128),\n",
    "    keras.layers.Dense(len(unique_chars), activation=\"softmax\")\n",
    "])"
   ]
  },
  {
   "cell_type": "code",
   "execution_count": null,
   "metadata": {},
   "outputs": [],
   "source": [
    "optimizer = keras.optimizers.Adam()\n",
    "\n",
    "# what should the loss be? what is each loss good for?\n",
    "model.compile(loss=\"\")"
   ]
  },
  {
   "cell_type": "markdown",
   "metadata": {},
   "source": [
    "### Create a function for sampling/generating sequences from a seed sequence using a (partially) trained model"
   ]
  },
  {
   "cell_type": "code",
   "execution_count": null,
   "metadata": {},
   "outputs": [],
   "source": []
  }
 ],
 "metadata": {
  "kernelspec": {
   "display_name": "Python 3",
   "language": "python",
   "name": "python3"
  },
  "language_info": {
   "codemirror_mode": {
    "name": "ipython",
    "version": 3
   },
   "file_extension": ".py",
   "mimetype": "text/x-python",
   "name": "python",
   "nbconvert_exporter": "python",
   "pygments_lexer": "ipython3",
   "version": "3.8.5"
  }
 },
 "nbformat": 4,
 "nbformat_minor": 4
}
